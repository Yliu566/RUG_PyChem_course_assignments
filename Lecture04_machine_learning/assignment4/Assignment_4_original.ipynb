{
  "nbformat": 4,
  "nbformat_minor": 0,
  "metadata": {
    "colab": {
      "name": "Assignment 4.ipynb",
      "provenance": [],
      "collapsed_sections": []
    },
    "kernelspec": {
      "display_name": "Python 3",
      "name": "python3"
    }
  },
  "cells": [
    {
      "cell_type": "markdown",
      "metadata": {
        "id": "m6hw0c2aPmmL"
      },
      "source": [
        "The first part of the code initializes the database that you will need for the last part of the assignment. It also adds some libraries to help with handling your code. If you wish to use more libraries you can add them here. When prompted, you will get a request to allow Google SDK access your google account. Follow the link and accept with your university google account. Copy the verification link. You should see a plot of the PES of H2 if everything was successful."
      ]
    },
    {
      "cell_type": "code",
      "metadata": {
        "id": "dKJ5pAi6TmgP"
      },
      "source": [
        "%pip install netCDF4 \n",
        "import numpy as np\n",
        "import netCDF4 as nc\n",
        "import matplotlib.pyplot as plt\n",
        "import math\n",
        "\n",
        "!pip install -U -q PyDrive\n",
        "from pydrive.auth import GoogleAuth\n",
        "from pydrive.drive import GoogleDrive\n",
        "from google.colab import auth\n",
        "from oauth2client.client import GoogleCredentials# Authenticate and create the PyDrive client.\n",
        "auth.authenticate_user()\n",
        "gauth = GoogleAuth()\n",
        "gauth.credentials = GoogleCredentials.get_application_default()\n",
        "drive = GoogleDrive(gauth)\n",
        "\n",
        "link = 'https://drive.google.com/file/d/1AX7p4iDbbXSV9af5kXw9szzoDJ13IRcF/view?usp=sharing'\n",
        "id ='1AX7p4iDbbXSV9af5kXw9szzoDJ13IRcF'\n",
        "downloaded = drive.CreateFile({'id':id})\n",
        "downloaded.GetContentFile('testdata.nc') \n",
        "testdata = 'testdata.nc' \n",
        "ds = nc.Dataset(testdata)\n",
        "\n",
        "for var in ds.variables.values():\n",
        "    print(var)\n",
        "\n",
        "yAxis = []\n",
        "xAxis = np.arange(0.25,5.05,0.05)\n",
        "for i in range(96):\n",
        "  yAxis.append(ds['energy'][i][0:])\n",
        "  \n",
        "plt.ylabel(\"Ev\")\n",
        "plt.xlabel(\"Bond Distance\")\n",
        "plt.plot(xAxis,yAxis)\n",
        "plt.savefig('test_data.png')"
      ],
      "execution_count": null,
      "outputs": []
    },
    {
      "cell_type": "markdown",
      "metadata": {
        "id": "8Jhnzl4rUdv8"
      },
      "source": [
        "Here we create the training data for the first part of the assignment. The input array will be the input of your network, and you will train the network to predict the output that fits to its respective input. "
      ]
    },
    {
      "cell_type": "code",
      "metadata": {
        "id": "9CaIsDWPUTrh"
      },
      "source": [
        "input_array = np.array([[0,0,1],[1,0,1,],[0,1,1],[1,1,1]])\n",
        "output_array = np.array([[0],[1],[1],[0]])"
      ],
      "execution_count": null,
      "outputs": []
    },
    {
      "cell_type": "markdown",
      "metadata": {
        "id": "TIg9_j9_Xcph"
      },
      "source": [
        "To start, we will initialize the neural network. \n",
        "\n",
        "1.  The size of the input and output nodes is given by your training data above.\n",
        " \n",
        "2.  Create a hidden layer with 4 nodes. \n",
        "\n",
        "1.  Create a weighted connection between the input and hidden layer nodes\n",
        "2.  Create a weighted connection between the hidden layer nodes and output nodes\n",
        "\n",
        "\n",
        "\n",
        "\n",
        "\n",
        "\n"
      ]
    },
    {
      "cell_type": "markdown",
      "metadata": {
        "id": "2iHvOxnwhwwN"
      },
      "source": [
        ""
      ]
    },
    {
      "cell_type": "code",
      "metadata": {
        "id": "MIv4bMyuYzv1"
      },
      "source": [
        "\n",
        "\n"
      ],
      "execution_count": null,
      "outputs": []
    },
    {
      "cell_type": "markdown",
      "metadata": {
        "id": "FymQ0ikDT7SP"
      },
      "source": [
        "Write a function that transforms the output of a layer with the sigmoid function. Also write a function that generates the derivative of this function. Finally create a learning rate variable to use in updating the network.\r\n"
      ]
    },
    {
      "cell_type": "code",
      "metadata": {
        "id": "wX44_2bWXcC4"
      },
      "source": [
        ""
      ],
      "execution_count": null,
      "outputs": []
    },
    {
      "cell_type": "markdown",
      "metadata": {
        "id": "HJsQinPeXcaf"
      },
      "source": [
        "With the pieces in place, generate a forward pass of the network. Input each column in the input_array. The network should pass the input to the hidden layers through the weighted connections using the sigmoid function, and from the hidden layers use the connections to reach the ouput node."
      ]
    },
    {
      "cell_type": "code",
      "metadata": {
        "id": "0x4rt83uYrN-"
      },
      "source": [
        ""
      ],
      "execution_count": null,
      "outputs": []
    },
    {
      "cell_type": "markdown",
      "metadata": {
        "id": "6naL0FpuYrcR"
      },
      "source": [
        "Compare the output of your model with each of the training outputs. Subtract the training output from your model output, this is your error. Use this error to calculate the change in the output weights or delta_output. This is calculated by taking the error and multiplying it with the derivative of the output.\r\n",
        "\r\n",
        "Using delta_output, we calculate the change to each of the input layer to hidden layer connections. We multiply delta_output with each of the weighted connections and the derivative of the ouput of each hidden layer. This is the change for each of the input layer to hidden layer weights.\r\n",
        "\r\n",
        "Apply the changes to all of the weights while multipliying them with the learning rate. \r\n",
        "\r\n",
        "\r\n"
      ]
    },
    {
      "cell_type": "code",
      "metadata": {
        "id": "nboaCHo1ceFa"
      },
      "source": [
        ""
      ],
      "execution_count": null,
      "outputs": []
    },
    {
      "cell_type": "markdown",
      "metadata": {
        "id": "YZhG7C4sceV4"
      },
      "source": [
        "We now repeat this process for 10.000 epochs. Check if the error of the model is decreasing over time and aproaches 0. If this the case the model is working and we can apply to the PES data."
      ]
    },
    {
      "cell_type": "code",
      "metadata": {
        "id": "drdtXKxCcdKk"
      },
      "source": [
        ""
      ],
      "execution_count": null,
      "outputs": []
    },
    {
      "cell_type": "markdown",
      "metadata": {
        "id": "qq7qR_5mdDjZ"
      },
      "source": [
        "The following code checks if the database data is working and creates an input and output array based on this data. \r\n"
      ]
    },
    {
      "cell_type": "code",
      "metadata": {
        "id": "93nDUjKK8ZlD"
      },
      "source": [
        "fn = '/content/testdata.nc'\r\n",
        "ds = nc.Dataset(fn)\r\n",
        "\r\n",
        "yAxis = []\r\n",
        "xAxis = np.arange(0.25,5.05,0.05)\r\n",
        "for i in range(96):\r\n",
        "  yAxis.append(ds['energy'][i][0:])\r\n",
        "  \r\n",
        "yAxisMin= np.amin(yAxis)\r\n",
        "yAxis = yAxis-yAxisMin\r\n",
        "plt.ylabel(\"Ev\")\r\n",
        "plt.xlabel(\"Bond Distance\")\r\n",
        "plt.plot(xAxis,yAxis)\r\n",
        "plt.savefig('test_data.png')\r\n",
        "\r\n",
        "input_array = np.reshape(xAxis, (-1, 1))\r\n",
        "output_array = yAxis\r\n",
        "\r\n"
      ],
      "execution_count": null,
      "outputs": []
    },
    {
      "cell_type": "markdown",
      "metadata": {
        "id": "P7NKhI1cggTu"
      },
      "source": [
        "Change the shape of the network to fit the training. Run the network and see how well it is performing. To improve performance, consider changing the number of hidden layers, the amount of epochs and the learning rate. Try to find the best parametres to estimate the data."
      ]
    },
    {
      "cell_type": "code",
      "metadata": {
        "id": "2S5LLxPoJ9Wf"
      },
      "source": [
        ""
      ],
      "execution_count": null,
      "outputs": []
    }
  ]
}