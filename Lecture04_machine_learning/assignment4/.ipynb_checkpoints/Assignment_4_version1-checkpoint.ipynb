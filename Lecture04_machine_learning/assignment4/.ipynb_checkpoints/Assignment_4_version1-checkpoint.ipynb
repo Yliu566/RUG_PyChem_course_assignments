{
 "cells": [
  {
   "cell_type": "markdown",
   "metadata": {
    "id": "m6hw0c2aPmmL"
   },
   "source": [
    "The first part of the code initializes the database that you will need for the last part of the assignment. It also adds some libraries to help with handling your code. If you wish to use more libraries you can add them here. When prompted, you will get a request to allow Google SDK access your google account. Follow the link and accept with your university google account. Copy the verification link. You should see a plot of the PES of H2 if everything was successful."
   ]
  },
  {
   "cell_type": "code",
   "execution_count": 3,
   "metadata": {
    "colab": {
     "base_uri": "https://localhost:8080/"
    },
    "executionInfo": {
     "elapsed": 3126,
     "status": "ok",
     "timestamp": 1617094763091,
     "user": {
      "displayName": "Y. Liu",
      "photoUrl": "https://lh4.googleusercontent.com/-Umbo8JfuLwE/AAAAAAAAAAI/AAAAAAAAASU/PmUFWi-mCMU/s64/photo.jpg",
      "userId": "06431145447231607104"
     },
     "user_tz": -120
    },
    "id": "dKJ5pAi6TmgP",
    "outputId": "88c9f027-0b70-4ca0-f08b-ce0ff628bc91"
   },
   "outputs": [
    {
     "name": "stdout",
     "output_type": "stream",
     "text": [
      "Requirement already satisfied: netCDF4 in d:\\programdata\\anaconda3\\lib\\site-packages (1.5.6)\n",
      "Requirement already satisfied: cftime in d:\\programdata\\anaconda3\\lib\\site-packages (from netCDF4) (1.4.1)\n",
      "Requirement already satisfied: numpy>=1.9 in d:\\programdata\\anaconda3\\lib\\site-packages (from netCDF4) (1.19.2)\n",
      "Note: you may need to restart the kernel to use updated packages.\n"
     ]
    }
   ],
   "source": [
    "%pip install netCDF4 \n",
    "import numpy as np\n",
    "import netCDF4 as nc\n",
    "import matplotlib.pyplot as plt\n",
    "import math\n",
    "\n",
    "# from google.colab import drive\n",
    "# drive.mount('/content/drive/my-drive/Colab_Notebooks/testdata.nc')\n",
    "\n",
    "# !pip install -U -q PyDrive\n",
    "# from pydrive.auth import GoogleAuth\n",
    "# from pydrive.drive import GoogleDrive\n",
    "# from google.colab import auth\n",
    "# from oauth2client.client import GoogleCredentials# Authenticate and create the PyDrive client.\n",
    "# auth.authenticate_user()\n",
    "# gauth = GoogleAuth()\n",
    "# gauth.credentials = GoogleCredentials.get_application_default()\n",
    "# drive = GoogleDrive(gauth)\n",
    "\n",
    "# link = 'https://drive.google.com/file/d/1AX7p4iDbbXSV9af5kXw9szzoDJ13IRcF/view?usp=sharing'\n",
    "# id ='1AX7p4iDbbXSV9af5kXw9szzoDJ13IRcF'\n",
    "# downloaded = drive.CreateFile({'id':id})\n",
    "# downloaded.GetContentFile('testdata.nc') \n",
    "# testdata = 'testdata.nc' \n",
    "# ds = nc.Dataset(testdata)\n",
    "\n",
    "# for var in ds.variables.values():\n",
    "#     print(var)\n",
    "\n",
    "# yAxis = []\n",
    "# xAxis = np.arange(0.25,5.05,0.05)\n",
    "# for i in range(96):\n",
    "#   yAxis.append(ds['energy'][i][0:])\n",
    "  \n",
    "# plt.ylabel(\"Ev\")\n",
    "# plt.xlabel(\"Bond Distance\")\n",
    "# plt.plot(xAxis,yAxis)\n",
    "# plt.savefig('test_data.png')"
   ]
  },
  {
   "cell_type": "markdown",
   "metadata": {
    "id": "8Jhnzl4rUdv8"
   },
   "source": [
    "Here we create the training data for the first part of the assignment. The input array will be the input of your network, and you will train the network to predict the output that fits to its respective input. "
   ]
  },
  {
   "cell_type": "code",
   "execution_count": 4,
   "metadata": {
    "id": "9CaIsDWPUTrh"
   },
   "outputs": [],
   "source": [
    "input_array = np.array([[0,0,1],[1,0,1,],[0,1,1],[1,1,1]])\n",
    "output_array = np.array([[0],[1],[1],[0]])"
   ]
  },
  {
   "cell_type": "markdown",
   "metadata": {
    "id": "TIg9_j9_Xcph"
   },
   "source": [
    "To start, we will initialize the neural network. \n",
    "\n",
    "1.  The size of the input and output nodes is given by your training data above.\n",
    " \n",
    "2.  Create a hidden layer with 4 nodes. \n",
    "\n",
    "3.  Create a weighted connection between the input and hidden layer nodes\n",
    "\n",
    "4.  Create a weighted connection between the hidden layer nodes and output nodes\n",
    "\n",
    "\n",
    "\n",
    "\n",
    "\n",
    "\n"
   ]
  },
  {
   "cell_type": "code",
   "execution_count": 5,
   "metadata": {
    "id": "MIv4bMyuYzv1"
   },
   "outputs": [],
   "source": [
    "#weights1 has the size that can be further dot with the input array\n",
    "\n",
    "weights1 = np.random.rand(input_array.shape[1],4)  \n",
    "\n",
    "weights2= np.random.rand(4,1)\n",
    "\n",
    "# hidden_layer1 = np.random.rand(4,4)\n",
    "# print(hidden_layer1)\n",
    "# output_predict = np.random.rand(4,1)\n"
   ]
  },
  {
   "cell_type": "markdown",
   "metadata": {
    "id": "FymQ0ikDT7SP"
   },
   "source": [
    "Write a function that transforms the output of a layer with the sigmoid function. Also write a function that generates the derivative of this function. Finally create a learning rate variable to use in updating the network.\n"
   ]
  },
  {
   "cell_type": "markdown",
   "metadata": {
    "id": "HJsQinPeXcaf"
   },
   "source": [
    "With the pieces in place, generate a forward pass of the network. Input each column in the input_array. The network should pass the input to the hidden layers through the weighted connections using the sigmoid function, and from the hidden layers use the connections to reach the ouput node."
   ]
  },
  {
   "cell_type": "code",
   "execution_count": 6,
   "metadata": {
    "id": "uqe04EP_w6HZ"
   },
   "outputs": [],
   "source": [
    "def sigmoid(x):\n",
    "    return 1.0/(1.0 + np.exp(-x))\n",
    "\n",
    "def der_sigmoid(x):\n",
    "    return x * (1.0 - x)\n",
    "  "
   ]
  },
  {
   "cell_type": "code",
   "execution_count": 7,
   "metadata": {
    "id": "nboaCHo1ceFa"
   },
   "outputs": [],
   "source": [
    "### create a forward pass network\n",
    "def forward_pass():\n",
    "    global hidden_layer1\n",
    "    global output_predict\n",
    "    hidden_layer1 = sigmoid(np.dot(input_array, weights1))\n",
    "    output_predict = sigmoid(np.dot(hidden_layer1, weights2))\n",
    "\n",
    "\n",
    "# forward_pass() \n",
    "# print(hidden_layer1)\n",
    "# print(output_predict)"
   ]
  },
  {
   "cell_type": "markdown",
   "metadata": {
    "id": "6naL0FpuYrcR"
   },
   "source": [
    "Compare the output of your model with each of the training outputs. Subtract the training output from your model output, this is your error. Use this error to calculate the change in the output weights or delta_output. This is calculated by taking the error and multiplying it with the derivative of the output.\n",
    "\n",
    "Using delta_output, we calculate the change to each of the input layer to hidden layer connections. We multiply delta_output with each of the weighted connections and the derivative of the ouput of each hidden layer. This is the change for each of the input layer to hidden layer weights.\n",
    "\n",
    "Apply the changes to all of the weights while multipliying them with the learning rate. \n",
    "\n",
    "\n"
   ]
  },
  {
   "cell_type": "code",
   "execution_count": 8,
   "metadata": {
    "id": "0x4rt83uYrN-"
   },
   "outputs": [],
   "source": [
    "### creat a backword pass network\n",
    "def backward_feed():\n",
    "    error = output_array - output_predict\n",
    "    d_weights2 = np.dot(hidden_layer1.T, 2 * error * der_sigmoid(output_predict))\n",
    "    global weights2\n",
    "    global weights1\n",
    "    d_weights1 = np.dot( input_array.T, np.dot(2 * error * der_sigmoid(output_predict), weights2.T)* der_sigmoid(hidden_layer1))\n",
    "  # update the weights\n",
    "    weights1 += d_weights1\n",
    "    weights2 += d_weights2\n",
    "\n",
    "# backward_feed()\n",
    "# print(weights1)\n",
    "# print(weights2)"
   ]
  },
  {
   "cell_type": "markdown",
   "metadata": {
    "id": "YZhG7C4sceV4"
   },
   "source": [
    "We now repeat this process for 10.000 epochs. Check if the error of the model is decreasing over time and aproaches 0. If this the case the model is working and we can apply to the PES data."
   ]
  },
  {
   "cell_type": "code",
   "execution_count": 9,
   "metadata": {
    "colab": {
     "base_uri": "https://localhost:8080/"
    },
    "executionInfo": {
     "elapsed": 754,
     "status": "ok",
     "timestamp": 1617098307597,
     "user": {
      "displayName": "Y. Liu",
      "photoUrl": "https://lh4.googleusercontent.com/-Umbo8JfuLwE/AAAAAAAAAAI/AAAAAAAAASU/PmUFWi-mCMU/s64/photo.jpg",
      "userId": "06431145447231607104"
     },
     "user_tz": -120
    },
    "id": "drdtXKxCcdKk",
    "outputId": "dda4b63a-c0e5-4dfb-d479-bd1ff40dfe69"
   },
   "outputs": [
    {
     "name": "stdout",
     "output_type": "stream",
     "text": [
      "[[0.00656042]\n",
      " [0.99335382]\n",
      " [0.99296537]\n",
      " [0.00728248]]\n"
     ]
    }
   ],
   "source": [
    "for i in range(10000):\n",
    "    # fig, ax = plt.subplots(2)\n",
    "    forward_pass()\n",
    "    backward_feed()\n",
    "    # ax[0].plot(weights2,der_sigmoid(output_predict),'ro')\n",
    "    # ax[0].set(title=\"Loss function vs weights2\")\n",
    "    # ax[1].plot(weights1,der_sigmoid(output_predict),'go')\n",
    "    # ax[1].set(title=\"Loss function vs weights1\")\n",
    "\n",
    "# plt.show()\n",
    "print(output_predict)"
   ]
  },
  {
   "cell_type": "markdown",
   "metadata": {
    "id": "qq7qR_5mdDjZ"
   },
   "source": [
    "The following code checks if the database data is working and creates an input and output array based on this data. \n"
   ]
  },
  {
   "cell_type": "code",
   "execution_count": 10,
   "metadata": {
    "colab": {
     "base_uri": "https://localhost:8080/",
     "height": 313
    },
    "executionInfo": {
     "elapsed": 786,
     "status": "ok",
     "timestamp": 1617094802903,
     "user": {
      "displayName": "Y. Liu",
      "photoUrl": "https://lh4.googleusercontent.com/-Umbo8JfuLwE/AAAAAAAAAAI/AAAAAAAAASU/PmUFWi-mCMU/s64/photo.jpg",
      "userId": "06431145447231607104"
     },
     "user_tz": -120
    },
    "id": "93nDUjKK8ZlD",
    "outputId": "804e209d-1a6e-45ab-9b24-b8583fd9ea58"
   },
   "outputs": [
    {
     "name": "stdout",
     "output_type": "stream",
     "text": [
      "(96, 1)\n",
      "(96, 3)\n"
     ]
    },
    {
     "data": {
      "image/png": "[encoded data removed]",
      "text/plain": [
       "<Figure size 432x288 with 1 Axes>"
      ]
     },
     "metadata": {
      "needs_background": "light"
     },
     "output_type": "display_data"
    }
   ],
   "source": [
    "fn = 'testdata.nc'\n",
    "ds = nc.Dataset(fn)\n",
    "\n",
    "yAxis = []\n",
    "xAxis = np.arange(0.25,5.05,0.05)\n",
    "for i in range(96):\n",
    "  yAxis.append(ds['energy'][i][0:])\n",
    "\n",
    "# print(yAxis)  \n",
    "yAxisMin= np.amin(yAxis)\n",
    "yAxis = yAxis-yAxisMin\n",
    "plt.ylabel(\"Ev\")\n",
    "plt.xlabel(\"Bond Distance\")\n",
    "plt.plot(xAxis,yAxis)\n",
    "# plt.savefig('test_data.png')\n",
    "\n",
    "input_array = np.reshape(xAxis, (-1, 1))\n",
    "output_array = yAxis\n",
    "\n",
    "print(input_array.shape)\n",
    "print(output_array.shape)\n",
    "# print(input_array)\n",
    "# print(output_array)"
   ]
  },
  {
   "cell_type": "markdown",
   "metadata": {
    "id": "P7NKhI1cggTu"
   },
   "source": [
    "Change the shape of the network to fit the training. Run the network and see how well it is performing. To improve performance, consider changing the number of hidden layers, the amount of epochs and the learning rate. Try to find the best parametres to estimate the data."
   ]
  },
  {
   "cell_type": "code",
   "execution_count": 11,
   "metadata": {
    "id": "1KclXRCuwRA3"
   },
   "outputs": [],
   "source": [
    "### set some parameters that could be modify later\n",
    "NODE = 8\n",
    "BIAS = 0.5\n",
    "ALPHA = 0.01"
   ]
  },
  {
   "cell_type": "markdown",
   "metadata": {
    "id": "usvf1UiEpp0B"
   },
   "source": [
    "Notes: \n",
    "\n",
    "I choose node of 8 at first. The output gives non-values. It gives 'inf'. If I run each forward_pass or backward_feed step by step, I can get true values, but if I use a for loop to run multiple times, the output is either NaN or Inf."
   ]
  },
  {
   "cell_type": "code",
   "execution_count": 12,
   "metadata": {
    "colab": {
     "base_uri": "https://localhost:8080/"
    },
    "executionInfo": {
     "elapsed": 465,
     "status": "ok",
     "timestamp": 1617094895847,
     "user": {
      "displayName": "Y. Liu",
      "photoUrl": "https://lh4.googleusercontent.com/-Umbo8JfuLwE/AAAAAAAAAAI/AAAAAAAAASU/PmUFWi-mCMU/s64/photo.jpg",
      "userId": "06431145447231607104"
     },
     "user_tz": -120
    },
    "id": "2S5LLxPoJ9Wf",
    "outputId": "cf87cfc0-58cd-4192-eb83-78d9092739f2"
   },
   "outputs": [
    {
     "name": "stdout",
     "output_type": "stream",
     "text": [
      "(96, 8)\n",
      "[[0.41547091 0.43600129 0.47328667]\n",
      " [0.49856509 0.52320155 0.567944  ]\n",
      " [0.58165927 0.6104018  0.66260133]\n",
      " [0.66475345 0.69760206 0.75725867]\n",
      " [0.74784763 0.78480232 0.851916  ]\n",
      " [0.83094181 0.87200258 0.94657333]\n",
      " [0.91403599 0.95920283 1.04123067]\n",
      " [0.99713017 1.04640309 1.135888  ]\n",
      " [1.08022435 1.13360335 1.23054533]\n",
      " [1.16331853 1.22080361 1.32520267]\n",
      " [1.24641272 1.30800386 1.41986   ]\n",
      " [1.3295069  1.39520412 1.51451734]\n",
      " [1.41260108 1.48240438 1.60917467]\n",
      " [1.49569526 1.56960464 1.703832  ]\n",
      " [1.57878944 1.65680489 1.79848934]\n",
      " [1.66188362 1.74400515 1.89314667]\n",
      " [1.7449778  1.83120541 1.987804  ]\n",
      " [1.82807198 1.91840567 2.08246134]\n",
      " [1.91116616 2.00560592 2.17711867]\n",
      " [1.99426034 2.09280618 2.271776  ]\n",
      " [2.07735453 2.18000644 2.36643334]\n",
      " [2.16044871 2.2672067  2.46109067]\n",
      " [2.24354289 2.35440695 2.555748  ]\n",
      " [2.32663707 2.44160721 2.65040534]\n",
      " [2.40973125 2.52880747 2.74506267]\n",
      " [2.49282543 2.61600773 2.83972   ]\n",
      " [2.57591961 2.70320799 2.93437734]\n",
      " [2.65901379 2.79040824 3.02903467]\n",
      " [2.74210797 2.8776085  3.123692  ]\n",
      " [2.82520215 2.96480876 3.21834934]\n",
      " [2.90829634 3.05200902 3.31300667]\n",
      " [2.99139052 3.13920927 3.407664  ]\n",
      " [3.0744847  3.22640953 3.50232134]\n",
      " [3.15757888 3.31360979 3.59697867]\n",
      " [3.24067306 3.40081005 3.691636  ]\n",
      " [3.32376724 3.4880103  3.78629334]\n",
      " [3.40686142 3.57521056 3.88095067]\n",
      " [3.4899556  3.66241082 3.975608  ]\n",
      " [3.57304978 3.74961108 4.07026534]\n",
      " [3.65614396 3.83681133 4.16492267]\n",
      " [3.73923815 3.92401159 4.25958001]\n",
      " [3.82233233 4.01121185 4.35423734]\n",
      " [3.90542651 4.09841211 4.44889467]\n",
      " [3.98852069 4.18561236 4.54355201]\n",
      " [4.07161487 4.27281262 4.63820934]\n",
      " [4.15470905 4.36001288 4.73286667]\n",
      " [4.23780323 4.44721314 4.82752401]\n",
      " [4.32089741 4.53441339 4.92218134]\n",
      " [4.40399159 4.62161365 5.01683867]\n",
      " [4.48708578 4.70881391 5.11149601]\n",
      " [4.57017996 4.79601417 5.20615334]\n",
      " [4.65327414 4.88321442 5.30081067]\n",
      " [4.73636832 4.97041468 5.39546801]\n",
      " [4.8194625  5.05761494 5.49012534]\n",
      " [4.90255668 5.1448152  5.58478267]\n",
      " [4.98565086 5.23201546 5.67944001]\n",
      " [5.06874504 5.31921571 5.77409734]\n",
      " [5.15183922 5.40641597 5.86875467]\n",
      " [5.2349334  5.49361623 5.96341201]\n",
      " [5.31802759 5.58081649 6.05806934]\n",
      " [5.40112177 5.66801674 6.15272667]\n",
      " [5.48421595 5.755217   6.24738401]\n",
      " [5.56731013 5.84241726 6.34204134]\n",
      " [5.65040431 5.92961752 6.43669867]\n",
      " [5.73349849 6.01681777 6.53135601]\n",
      " [5.81659267 6.10401803 6.62601334]\n",
      " [5.89968685 6.19121829 6.72067067]\n",
      " [5.98278103 6.27841855 6.81532801]\n",
      " [6.06587521 6.3656188  6.90998534]\n",
      " [6.1489694  6.45281906 7.00464268]\n",
      " [6.23206358 6.54001932 7.09930001]\n",
      " [6.31515776 6.62721958 7.19395734]\n",
      " [6.39825194 6.71441983 7.28861468]\n",
      " [6.48134612 6.80162009 7.38327201]\n",
      " [6.5644403  6.88882035 7.47792934]\n",
      " [6.64753448 6.97602061 7.57258668]\n",
      " [6.73062866 7.06322086 7.66724401]\n",
      " [6.81372284 7.15042112 7.76190134]\n",
      " [6.89681702 7.23762138 7.85655868]\n",
      " [6.97991121 7.32482164 7.95121601]\n",
      " [7.06300539 7.41202189 8.04587334]\n",
      " [7.14609957 7.49922215 8.14053068]\n",
      " [7.22919375 7.58642241 8.23518801]\n",
      " [7.31228793 7.67362267 8.32984534]\n",
      " [7.39538211 7.76082293 8.42450268]\n",
      " [7.47847629 7.84802318 8.51916001]\n",
      " [7.56157047 7.93522344 8.61381734]\n",
      " [7.64466465 8.0224237  8.70847468]\n",
      " [7.72775883 8.10962396 8.80313201]\n",
      " [7.81085302 8.19682421 8.89778934]\n",
      " [7.8939472  8.28402447 8.99244668]\n",
      " [7.97704138 8.37122473 9.08710401]\n",
      " [8.06013556 8.45842499 9.18176134]\n",
      " [8.14322974 8.54562524 9.27641868]\n",
      " [8.22632392 8.6328255  9.37107601]\n",
      " [8.3094181  8.72002576 9.46573334]]\n"
     ]
    }
   ],
   "source": [
    "weights1 = np.random.rand(input_array.shape[1],NODE)  \n",
    "weights2= np.random.rand(NODE,output_array.shape[1])\n",
    "### create a forward pass network\n",
    "def forward_pass():\n",
    "    global hidden_layer1\n",
    "    global output_predict\n",
    "    hidden_layer1 = np.dot(input_array, weights1)\n",
    "    output_predict = np.dot(hidden_layer1, weights2)\n",
    "\n",
    "forward_pass()\n",
    "print(hidden_layer1.shape)\n",
    "print(output_predict)"
   ]
  },
  {
   "cell_type": "code",
   "execution_count": null,
   "metadata": {
    "colab": {
     "base_uri": "https://localhost:8080/"
    },
    "executionInfo": {
     "elapsed": 533,
     "status": "ok",
     "timestamp": 1617094900378,
     "user": {
      "displayName": "Y. Liu",
      "photoUrl": "https://lh4.googleusercontent.com/-Umbo8JfuLwE/AAAAAAAAAAI/AAAAAAAAASU/PmUFWi-mCMU/s64/photo.jpg",
      "userId": "06431145447231607104"
     },
     "user_tz": -120
    },
    "id": "fF9E95LVZs9R",
    "outputId": "3c1cba2d-16f1-4b7b-81a1-a20c57c43938"
   },
   "outputs": [
    {
     "name": "stdout",
     "output_type": "stream",
     "text": [
      "[[0.42541133 0.23165027 0.49033513]\n",
      " [0.5104936  0.27798032 0.58840215]\n",
      " [0.59557587 0.32431037 0.68646918]\n",
      " [0.68065813 0.37064043 0.78453621]\n",
      " [0.7657404  0.41697048 0.88260323]\n",
      " [0.85082267 0.46330053 0.98067026]\n",
      " [0.93590493 0.50963059 1.07873728]\n",
      " [1.0209872  0.55596064 1.17680431]\n",
      " [1.10606947 0.6022907  1.27487134]\n",
      " [1.19115173 0.64862075 1.37293836]\n",
      " [1.276234   0.6949508  1.47100539]\n",
      " [1.36131627 0.74128086 1.56907241]\n",
      " [1.44639853 0.78761091 1.66713944]\n",
      " [1.5314808  0.83394096 1.76520646]\n",
      " [1.61656307 0.88027102 1.86327349]\n",
      " [1.70164534 0.92660107 1.96134052]\n",
      " [1.7867276  0.97293112 2.05940754]\n",
      " [1.87180987 1.01926118 2.15747457]\n",
      " [1.95689214 1.06559123 2.25554159]\n",
      " [2.0419744  1.11192128 2.35360862]\n",
      " [2.12705667 1.15825134 2.45167565]\n",
      " [2.21213894 1.20458139 2.54974267]\n",
      " [2.2972212  1.25091144 2.6478097 ]\n",
      " [2.38230347 1.2972415  2.74587672]\n",
      " [2.46738574 1.34357155 2.84394375]\n",
      " [2.552468   1.3899016  2.94201077]\n",
      " [2.63755027 1.43623166 3.0400778 ]\n",
      " [2.72263254 1.48256171 3.13814483]\n",
      " [2.8077148  1.52889176 3.23621185]\n",
      " [2.89279707 1.57522182 3.33427888]\n",
      " [2.97787934 1.62155187 3.4323459 ]\n",
      " [3.0629616  1.66788193 3.53041293]\n",
      " [3.14804387 1.71421198 3.62847996]\n",
      " [3.23312614 1.76054203 3.72654698]\n",
      " [3.3182084  1.80687209 3.82461401]\n",
      " [3.40329067 1.85320214 3.92268103]\n",
      " [3.48837294 1.89953219 4.02074806]\n",
      " [3.5734552  1.94586225 4.11881508]\n",
      " [3.65853747 1.9921923  4.21688211]\n",
      " [3.74361974 2.03852235 4.31494914]\n",
      " [3.828702   2.08485241 4.41301616]\n",
      " [3.91378427 2.13118246 4.51108319]\n",
      " [3.99886654 2.17751251 4.60915021]\n",
      " [4.0839488  2.22384257 4.70721724]\n",
      " [4.16903107 2.27017262 4.80528427]\n",
      " [4.25411334 2.31650267 4.90335129]\n",
      " [4.3391956  2.36283273 5.00141832]\n",
      " [4.42427787 2.40916278 5.09948534]\n",
      " [4.50936014 2.45549283 5.19755237]\n",
      " [4.59444241 2.50182289 5.29561939]\n",
      " [4.67952467 2.54815294 5.39368642]\n",
      " [4.76460694 2.59448299 5.49175345]\n",
      " [4.84968921 2.64081305 5.58982047]\n",
      " [4.93477147 2.6871431  5.6878875 ]\n",
      " [5.01985374 2.73347316 5.78595452]\n",
      " [5.10493601 2.77980321 5.88402155]\n",
      " [5.19001827 2.82613326 5.98208858]\n",
      " [5.27510054 2.87246332 6.0801556 ]\n",
      " [5.36018281 2.91879337 6.17822263]\n",
      " [5.44526507 2.96512342 6.27628965]\n",
      " [5.53034734 3.01145348 6.37435668]\n",
      " [5.61542961 3.05778353 6.4724237 ]\n",
      " [5.70051187 3.10411358 6.57049073]\n",
      " [5.78559414 3.15044364 6.66855776]\n",
      " [5.87067641 3.19677369 6.76662478]\n",
      " [5.95575867 3.24310374 6.86469181]\n",
      " [6.04084094 3.2894338  6.96275883]\n",
      " [6.12592321 3.33576385 7.06082586]\n",
      " [6.21100547 3.3820939  7.15889288]\n",
      " [6.29608774 3.42842396 7.25695991]\n",
      " [6.38117001 3.47475401 7.35502694]\n",
      " [6.46625227 3.52108406 7.45309396]\n",
      " [6.55133454 3.56741412 7.55116099]\n",
      " [6.63641681 3.61374417 7.64922801]\n",
      " [6.72149907 3.66007422 7.74729504]\n",
      " [6.80658134 3.70640428 7.84536207]\n",
      " [6.89166361 3.75273433 7.94342909]\n",
      " [6.97674587 3.79906439 8.04149612]\n",
      " [7.06182814 3.84539444 8.13956314]\n",
      " [7.14691041 3.89172449 8.23763017]\n",
      " [7.23199267 3.93805455 8.33569719]\n",
      " [7.31707494 3.9843846  8.43376422]\n",
      " [7.40215721 4.03071465 8.53183125]\n",
      " [7.48723947 4.07704471 8.62989827]\n",
      " [7.57232174 4.12337476 8.7279653 ]\n",
      " [7.65740401 4.16970481 8.82603232]\n",
      " [7.74248628 4.21603487 8.92409935]\n",
      " [7.82756854 4.26236492 9.02216638]\n",
      " [7.91265081 4.30869497 9.1202334 ]\n",
      " [7.99773308 4.35502503 9.21830043]\n",
      " [8.08281534 4.40135508 9.31636745]\n",
      " [8.16789761 4.44768513 9.41443448]\n",
      " [8.25297988 4.49401519 9.5125015 ]\n",
      " [8.33806214 4.54034524 9.61056853]\n",
      " [8.42314441 4.58667529 9.70863556]\n",
      " [8.50822668 4.63300535 9.80670258]]\n"
     ]
    }
   ],
   "source": [
    "### creat a backword pass network\n",
    "def backward_feed():\n",
    "    error = output_array - output_predict\n",
    "    d_weights2 = np.dot(hidden_layer1.T, 2 * error)\n",
    "    global weights2\n",
    "    global weights1\n",
    "    d_weights1 = np.dot( input_array.T, np.dot(2 * error, weights2.T))\n",
    "  # update the weights\n",
    "    weights1 += d_weights1\n",
    "    weights2 += d_weights2\n",
    "\n",
    "backward_feed()\n",
    "print(output_predict)"
   ]
  },
  {
   "cell_type": "code",
   "execution_count": 13,
   "metadata": {
    "id": "99Q61RIJaIhK"
   },
   "outputs": [
    {
     "name": "stdout",
     "output_type": "stream",
     "text": [
      "[[nan nan nan]\n",
      " [nan nan nan]\n",
      " [nan nan nan]\n",
      " [nan nan nan]\n",
      " [nan nan nan]\n",
      " [nan nan nan]\n",
      " [nan nan nan]\n",
      " [nan nan nan]\n",
      " [nan nan nan]\n",
      " [nan nan nan]\n",
      " [nan nan nan]\n",
      " [nan nan nan]\n",
      " [nan nan nan]\n",
      " [nan nan nan]\n",
      " [nan nan nan]\n",
      " [nan nan nan]\n",
      " [nan nan nan]\n",
      " [nan nan nan]\n",
      " [nan nan nan]\n",
      " [nan nan nan]\n",
      " [nan nan nan]\n",
      " [nan nan nan]\n",
      " [nan nan nan]\n",
      " [nan nan nan]\n",
      " [nan nan nan]\n",
      " [nan nan nan]\n",
      " [nan nan nan]\n",
      " [nan nan nan]\n",
      " [nan nan nan]\n",
      " [nan nan nan]\n",
      " [nan nan nan]\n",
      " [nan nan nan]\n",
      " [nan nan nan]\n",
      " [nan nan nan]\n",
      " [nan nan nan]\n",
      " [nan nan nan]\n",
      " [nan nan nan]\n",
      " [nan nan nan]\n",
      " [nan nan nan]\n",
      " [nan nan nan]\n",
      " [nan nan nan]\n",
      " [nan nan nan]\n",
      " [nan nan nan]\n",
      " [nan nan nan]\n",
      " [nan nan nan]\n",
      " [nan nan nan]\n",
      " [nan nan nan]\n",
      " [nan nan nan]\n",
      " [nan nan nan]\n",
      " [nan nan nan]\n",
      " [nan nan nan]\n",
      " [nan nan nan]\n",
      " [nan nan nan]\n",
      " [nan nan nan]\n",
      " [nan nan nan]\n",
      " [nan nan nan]\n",
      " [nan nan nan]\n",
      " [nan nan nan]\n",
      " [nan nan nan]\n",
      " [nan nan nan]\n",
      " [nan nan nan]\n",
      " [nan nan nan]\n",
      " [nan nan nan]\n",
      " [nan nan nan]\n",
      " [nan nan nan]\n",
      " [nan nan nan]\n",
      " [nan nan nan]\n",
      " [nan nan nan]\n",
      " [nan nan nan]\n",
      " [nan nan nan]\n",
      " [nan nan nan]\n",
      " [nan nan nan]\n",
      " [nan nan nan]\n",
      " [nan nan nan]\n",
      " [nan nan nan]\n",
      " [nan nan nan]\n",
      " [nan nan nan]\n",
      " [nan nan nan]\n",
      " [nan nan nan]\n",
      " [nan nan nan]\n",
      " [nan nan nan]\n",
      " [nan nan nan]\n",
      " [nan nan nan]\n",
      " [nan nan nan]\n",
      " [nan nan nan]\n",
      " [nan nan nan]\n",
      " [nan nan nan]\n",
      " [nan nan nan]\n",
      " [nan nan nan]\n",
      " [nan nan nan]\n",
      " [nan nan nan]\n",
      " [nan nan nan]\n",
      " [nan nan nan]\n",
      " [nan nan nan]\n",
      " [nan nan nan]\n",
      " [nan nan nan]]\n"
     ]
    },
    {
     "name": "stderr",
     "output_type": "stream",
     "text": [
      "<ipython-input-8-1b53baa85642>:4: RuntimeWarning: overflow encountered in multiply\n",
      "  d_weights2 = np.dot(hidden_layer1.T, 2 * error * der_sigmoid(output_predict))\n",
      "<ipython-input-8-1b53baa85642>:7: RuntimeWarning: overflow encountered in multiply\n",
      "  d_weights1 = np.dot( input_array.T, np.dot(2 * error * der_sigmoid(output_predict), weights2.T)* der_sigmoid(hidden_layer1))\n"
     ]
    }
   ],
   "source": [
    "for i in range(5):\n",
    "    forward_pass()\n",
    "    backward_feed()\n",
    "\n",
    "print(output_predict)\n"
   ]
  },
  {
   "cell_type": "code",
   "execution_count": 14,
   "metadata": {
    "id": "VFLCz8kZg25Z"
   },
   "outputs": [
    {
     "data": {
      "text/plain": [
       "[<matplotlib.lines.Line2D at 0x174fd901f10>,\n",
       " <matplotlib.lines.Line2D at 0x174fd901fd0>,\n",
       " <matplotlib.lines.Line2D at 0x174fd90d0d0>]"
      ]
     },
     "execution_count": 14,
     "metadata": {},
     "output_type": "execute_result"
    },
    {
     "data": {
      "image/png": "[encoded data removed]",
      "text/plain": [
       "<Figure size 432x288 with 1 Axes>"
      ]
     },
     "metadata": {
      "needs_background": "light"
     },
     "output_type": "display_data"
    }
   ],
   "source": [
    "# xAxis = input_array\n",
    "yAxis = output_predict\n",
    "plt.ylabel(\"Ev\")\n",
    "plt.xlabel(\"Bond Distance\")\n",
    "plt.plot(xAxis,yAxis)"
   ]
  },
  {
   "cell_type": "code",
   "execution_count": null,
   "metadata": {},
   "outputs": [],
   "source": []
  }
 ],
 "metadata": {
  "colab": {
   "collapsed_sections": [],
   "name": "Assignment_4.ipynb",
   "provenance": []
  },
  "kernelspec": {
   "display_name": "Python 3",
   "language": "python",
   "name": "python3"
  },
  "language_info": {
   "codemirror_mode": {
    "name": "ipython",
    "version": 3
   },
   "file_extension": ".py",
   "mimetype": "text/x-python",
   "name": "python",
   "nbconvert_exporter": "python",
   "pygments_lexer": "ipython3",
   "version": "3.8.5"
  }
 },
 "nbformat": 4,
 "nbformat_minor": 1
}
