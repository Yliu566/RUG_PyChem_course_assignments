{
 "cells": [
  {
   "cell_type": "markdown",
   "metadata": {},
   "source": [
    "### Instruction\n",
    "Write a small MD code that uses the Velocity-Verlet alogrithm to propagate H_2 molecule. \n",
    "$$\n",
    "x(t) = x_0 + v(t)dt + 0.5a(t) dt^2 \\\\\n",
    "a(t) = F(x(t))/m \\\\\n",
    "v(t) = v_0 + 0.5(a(t) + a_0)dt \n",
    "$$\n",
    "Where $F(x(t))$ is the force ($\\frac{\\partial V}{\\partial x}$) of the system and $m$ is its mass. The code should read in the initial structure from an \"XYZ\"-format file, then propagate the system. \\\n",
    "For the computation of the forces on the atoms you should use a common morese-potential: \n",
    "$$\n",
    "V = D_e (1- e^{-a(R - R_0)})^2\n",
    "$$\n",
    "and its associate gradient.\n",
    "\n",
    "The parameters for $H_2$ are: \n",
    "$$\n",
    "D_e = 0.176 \\\\\n",
    "a = 1.02\\\\\n",
    "R_0 = 1.40 \\\\\n",
    "$$\n",
    "in atomic units.\n",
    "\n",
    "The code should print the three energies: total energy (for check on energy conservation), kinetic energy, potential energy of the system as well as optionally the trajectory of structures in XYZ-format. "
   ]
  },
  {
   "cell_type": "code",
   "execution_count": 1,
   "metadata": {},
   "outputs": [],
   "source": [
    "import numpy as np\n",
    "import matplotlib.pyplot as plt\n",
    "import math\n",
    "from io import StringIO"
   ]
  },
  {
   "cell_type": "markdown",
   "metadata": {},
   "source": [
    "### Step 1: read coordinates"
   ]
  },
  {
   "cell_type": "code",
   "execution_count": 2,
   "metadata": {},
   "outputs": [
    {
     "name": "stdout",
     "output_type": "stream",
     "text": [
      "\n",
      "2\n",
      "H2\n",
      "H 0.0 0.0 0.0 0.0 0.0 0.0 \n",
      "H 0.9 0.0 0.0 0.0 0.0 0.0\n",
      "\n"
     ]
    }
   ],
   "source": [
    "file = StringIO(\"\"\"\n",
    "2\n",
    "H2\n",
    "H 0.0 0.0 0.0 0.0 0.0 0.0 \n",
    "H 0.9 0.0 0.0 0.0 0.0 0.0\n",
    "\"\"\")\n",
    "\n",
    "print(file.read())"
   ]
  },
  {
   "cell_type": "markdown",
   "metadata": {},
   "source": [
    "### Step 2: \n",
    "set up parameters for kinetic energy, potential energy and total energy.\n",
    "\n",
    "kinetic energy: "
   ]
  },
  {
   "cell_type": "code",
   "execution_count": null,
   "metadata": {},
   "outputs": [],
   "source": []
  },
  {
   "cell_type": "markdown",
   "metadata": {},
   "source": []
  },
  {
   "cell_type": "code",
   "execution_count": null,
   "metadata": {},
   "outputs": [],
   "source": []
  },
  {
   "cell_type": "code",
   "execution_count": null,
   "metadata": {},
   "outputs": [],
   "source": []
  },
  {
   "cell_type": "code",
   "execution_count": null,
   "metadata": {},
   "outputs": [],
   "source": []
  },
  {
   "cell_type": "markdown",
   "metadata": {},
   "source": []
  },
  {
   "cell_type": "code",
   "execution_count": null,
   "metadata": {},
   "outputs": [],
   "source": []
  }
 ],
 "metadata": {
  "kernelspec": {
   "display_name": "Python 3 (ipykernel)",
   "language": "python",
   "name": "python3"
  },
  "language_info": {
   "codemirror_mode": {
    "name": "ipython",
    "version": 3
   },
   "file_extension": ".py",
   "mimetype": "text/x-python",
   "name": "python",
   "nbconvert_exporter": "python",
   "pygments_lexer": "ipython3",
   "version": "3.9.7"
  }
 },
 "nbformat": 4,
 "nbformat_minor": 4
}
